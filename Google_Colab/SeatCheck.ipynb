{
  "nbformat": 4,
  "nbformat_minor": 0,
  "metadata": {
    "colab": {
      "name": "SeatCheck.ipynb",
      "provenance": [],
      "collapsed_sections": [],
      "authorship_tag": "ABX9TyPeefQWUE98GAwglSQAsCMj",
      "include_colab_link": true
    },
    "kernelspec": {
      "name": "python3",
      "display_name": "Python 3"
    }
  },
  "cells": [
    {
      "cell_type": "markdown",
      "metadata": {
        "id": "view-in-github",
        "colab_type": "text"
      },
      "source": [
        "<a href=\"https://colab.research.google.com/github/Gordon24771402/RegisMaster/blob/master/SeatCheck.ipynb\" target=\"_parent\"><img src=\"https://colab.research.google.com/assets/colab-badge.svg\" alt=\"Open In Colab\"/></a>"
      ]
    },
    {
      "cell_type": "code",
      "metadata": {
        "id": "yw5qI3Gt7lMV",
        "colab_type": "code",
        "colab": {}
      },
      "source": [
        "!pip install selenium\n",
        "!apt-get update\n",
        "!apt install chromium-chromedriver\n",
        "!cp /usr/lib/chromium-browser/chromedriver/usr/bin"
      ],
      "execution_count": 0,
      "outputs": []
    },
    {
      "cell_type": "code",
      "metadata": {
        "id": "j33x76727sLv",
        "colab_type": "code",
        "colab": {}
      },
      "source": [
        "import sys\n",
        "import tim\n",
        "from selenium import webdriver\n",
        "from selenium.webdriver import ChromeOptions\n",
        "from selenium.webdriver.common.by import By\n",
        "from selenium.webdriver.support.ui import WebDriverWait\n",
        "from selenium.webdriver.support import expected_conditions as EC\n",
        "from datetime import datetime\n",
        "from google.colab import output"
      ],
      "execution_count": 0,
      "outputs": []
    },
    {
      "cell_type": "code",
      "metadata": {
        "id": "Vw6nrW487WGC",
        "colab_type": "code",
        "colab": {}
      },
      "source": [
        "def reboot_main_program(driver):\n",
        "    driver.close()\n",
        "    time.sleep(60)\n",
        "    main_program()"
      ],
      "execution_count": 0,
      "outputs": []
    },
    {
      "cell_type": "code",
      "metadata": {
        "id": "GKcwO5W275FH",
        "colab_type": "code",
        "colab": {}
      },
      "source": [
        "def get_collegeboard_website(driver):\n",
        "    driver.get('https://collegereadiness.collegeboard.org/')\n",
        "    time.sleep(5)"
      ],
      "execution_count": 0,
      "outputs": []
    },
    {
      "cell_type": "code",
      "metadata": {
        "id": "rXq_mnwB7_hv",
        "colab_type": "code",
        "colab": {}
      },
      "source": [
        "def login(driver):\n",
        "    sign_in = WebDriverWait(driver, 60).until(EC.element_to_be_clickable((By.XPATH, \"/html/body/div[1]/div[1]/div/div/div/div[1]/div/div[2]/div/a[1]\")))\n",
        "    sign_in.click()\n",
        "    user_name = WebDriverWait(driver, 60).until(EC.element_to_be_clickable((By.XPATH, \"/html/body/div[1]/div[1]/div/div/div[2]/div[3]/div/div/div/div/div/div[1]/div/div[2]/form/div[1]/input\")))\n",
        "    user_name.send_keys(\"GORDON24771402\")\n",
        "    password = WebDriverWait(driver, 60).until(EC.element_to_be_clickable((By.XPATH, \"/html/body/div[1]/div[1]/div/div/div[2]/div[3]/div/div/div/div/div/div[1]/div/div[2]/form/div[2]/input\")))\n",
        "    password.send_keys(\"Up5G2R_9VrN2-Kw\")\n",
        "    submit = WebDriverWait(driver, 60).until(EC.element_to_be_clickable((By.XPATH, \"/html/body/div[1]/div[1]/div/div/div[2]/div[3]/div/div/div/div/div/div[1]/div/div[2]/form/button\")))\n",
        "    submit.click()\n",
        "    time.sleep(5)"
      ],
      "execution_count": 0,
      "outputs": []
    },
    {
      "cell_type": "code",
      "metadata": {
        "id": "uKiUka0N8Cmo",
        "colab_type": "code",
        "colab": {}
      },
      "source": [
        "def get_registration_website(driver):\n",
        "    driver.get(\"https://nsat.collegeboard.org/satweb/satHomeAction.action\")\n",
        "    time.sleep(5)"
      ],
      "execution_count": 0,
      "outputs": []
    },
    {
      "cell_type": "code",
      "metadata": {
        "id": "KyqKbRkp8HgZ",
        "colab_type": "code",
        "colab": {}
      },
      "source": [
        "def change_registration(driver):\n",
        "    change = WebDriverWait(driver, 60).until(EC.element_to_be_clickable((By.XPATH, '/html/body/div[13]/div/div/div/div[2]/div/div/div/div/div[2]/button[3]')))\n",
        "    change.click()\n",
        "    time.sleep(5)\n",
        "    change_test_date = WebDriverWait(driver, 60).until(EC.element_to_be_clickable((By.XPATH, '/html/body/div[3]/div[3]/div/main/form/div[2]/div[3]/div/div[4]/div[1]/div[1]/div[3]/a')))\n",
        "    change_test_date.click()\n",
        "    time.sleep(5)\n",
        "    change_continue = WebDriverWait(driver, 60).until(EC.element_to_be_clickable((By.XPATH, '/html/body/div[3]/div[3]/div/main/form/div[6]/div/input')))\n",
        "    change_continue.click()\n",
        "    time.sleep(5)\n",
        "    select_sat = WebDriverWait(driver, 60).until(EC.element_to_be_clickable((By.XPATH, '/html/body/div[4]/div[3]/div/main/form/div[4]/div/fieldset/div/div[1]/label/input')))\n",
        "    select_sat.click()\n",
        "    time.sleep(3)\n",
        "    essay = WebDriverWait(driver, 60).until(EC.element_to_be_clickable((By.XPATH, '/html/body/div[4]/div[3]/div/main/form/div[6]/fieldset/div[2]/label/input')))\n",
        "    essay.click()\n",
        "    time.sleep(1)\n",
        "    fee_waiver_no = WebDriverWait(driver, 60).until(EC.element_to_be_clickable((By.XPATH, '/html/body/div[4]/div[3]/div/main/form/div[8]/div/fieldset/div[1]/div[4]/label/input')))\n",
        "    fee_waiver_no.click()\n",
        "    time.sleep(1)\n",
        "    answer_service_no = WebDriverWait(driver, 60).until(EC.element_to_be_clickable((By.XPATH, '/html/body/div[4]/div[3]/div/main/form/div[9]/div[2]/fieldset/div[2]/div[2]/input')))\n",
        "    answer_service_no.click()\n",
        "    time.sleep(1)\n",
        "    change_continue_002 = WebDriverWait(driver, 60).until(EC.element_to_be_clickable((By.XPATH, '/html/body/div[4]/div[3]/div/main/form/div[10]/div/input')))\n",
        "    change_continue_002.click()\n",
        "    time.sleep(3)\n",
        "    ok = WebDriverWait(driver, 60).until(EC.element_to_be_clickable((By.XPATH, '/html/body/div[4]/div[3]/div/main/div[3]/div/div/div[3]/input[2]')))\n",
        "    ok.click()\n",
        "    time.sleep(5)"
      ],
      "execution_count": 0,
      "outputs": []
    },
    {
      "cell_type": "code",
      "metadata": {
        "id": "dZyvQ7gG8LKx",
        "colab_type": "code",
        "colab": {}
      },
      "source": [
        "def get_available_seats(driver):\n",
        "    select_country_name = WebDriverWait(driver, 60).until(EC.element_to_be_clickable((By.XPATH, '/html/body/div[3]/div[3]/div/main/form/div[3]/fieldset/div/div[1]/div/select')))\n",
        "    select_country_name.click()\n",
        "    time.sleep(3)\n",
        "    select_country_name.send_keys('Hong')\n",
        "    time.sleep(3)\n",
        "    search_by_country_or_region = WebDriverWait(driver, 60).until(EC.element_to_be_clickable((By.XPATH, '/html/body/div[3]/div[3]/div/main/form/div[3]/fieldset/div/div[1]/div/button')))\n",
        "    search_by_country_or_region.click()\n",
        "    time.sleep(5)\n",
        "    show_available = WebDriverWait(driver, 60).until(EC.element_to_be_clickable((By.XPATH, '/html/body/div[3]/div[3]/div/main/form/div[3]/div[1]/div[1]/div[2]/label/input')))\n",
        "    show_available.click()\n",
        "    time.sleep(3)"
      ],
      "execution_count": 0,
      "outputs": []
    },
    {
      "cell_type": "code",
      "metadata": {
        "id": "zIrmwGRA8POR",
        "colab_type": "code",
        "colab": {}
      },
      "source": [
        "def check_available_seats(driver):\n",
        "    html = str(driver.execute_script(\"return document.documentElement.outerHTML\"))\n",
        "    if 'No matching records found' in html:\n",
        "        print(datetime.now().strftime('%Y-%m-%d %H:%M:%S') + \": \" + \"Seats Not Available!\")\n",
        "        time.sleep(45)\n",
        "        search_by_country_or_region = WebDriverWait(driver, 60).until(EC.element_to_be_clickable((By.XPATH, '/html/body/div[3]/div[3]/div/main/form/div[3]/fieldset/div/div[1]/div/button')))\n",
        "        search_by_country_or_region.click()\n",
        "        time.sleep(5)\n",
        "        show_available = WebDriverWait(driver, 60).until(EC.element_to_be_clickable((By.XPATH, '/html/body/div[3]/div[3]/div/main/form/div[3]/div[1]/div[1]/div[2]/label/input')))\n",
        "        show_available.click()\n",
        "        time.sleep(3)\n",
        "        check_available_seats(driver)\n",
        "    elif 'No matching records found' not in html:\n",
        "        while True:\n",
        "            output.eval_js('new Audio(\"https://upload.wikimedia.org/wikipedia/commons/0/05/Beep-09.ogg\").play()')"
      ],
      "execution_count": 0,
      "outputs": []
    },
    {
      "cell_type": "code",
      "metadata": {
        "id": "N_GocJEx8Rgn",
        "colab_type": "code",
        "colab": {}
      },
      "source": [
        "def main_program():\n",
        "    options = ChromeOptions()\n",
        "    options.add_experimental_option('excludeSwitches', ['enable-automation'])\n",
        "    options.add_argument('--ignore-certificate-errors')\n",
        "    options.add_argument('--start-maximized')\n",
        "    driver = webdriver.Chrome(options=options)\n",
        "    try:\n",
        "        get_collegeboard_website(driver)\n",
        "        login(driver)\n",
        "        get_registration_website(driver)\n",
        "        change_registration(driver)\n",
        "        get_available_seats(driver)\n",
        "        check_available_seats(driver)\n",
        "    except:\n",
        "        reboot_main_program(driver)"
      ],
      "execution_count": 0,
      "outputs": []
    },
    {
      "cell_type": "code",
      "metadata": {
        "id": "qKS82RBD8T2D",
        "colab_type": "code",
        "colab": {}
      },
      "source": [
        "main_program()"
      ],
      "execution_count": 0,
      "outputs": []
    }
  ]
}