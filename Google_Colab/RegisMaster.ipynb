{
  "nbformat": 4,
  "nbformat_minor": 0,
  "metadata": {
    "colab": {
      "name": "Copy of RegisMaster.ipynb",
      "provenance": [],
      "collapsed_sections": [],
      "authorship_tag": "ABX9TyMCqGOfBz1kMwkdZ8QAFPuS",
      "include_colab_link": true
    },
    "kernelspec": {
      "name": "python3",
      "display_name": "Python 3"
    }
  },
  "cells": [
    {
      "cell_type": "markdown",
      "metadata": {
        "id": "view-in-github",
        "colab_type": "text"
      },
      "source": [
        "<a href=\"https://colab.research.google.com/github/Gordon24771402/RegisMaster/blob/master/RegisMaster.ipynb\" target=\"_parent\"><img src=\"https://colab.research.google.com/assets/colab-badge.svg\" alt=\"Open In Colab\"/></a>"
      ]
    },
    {
      "cell_type": "code",
      "metadata": {
        "id": "Zox6X1XwknK9",
        "colab_type": "code",
        "colab": {}
      },
      "source": [
        "!pip install selenium\n",
        "!apt-get update\n",
        "!apt install chromium-chromedriver\n",
        "!cp /usr/lib/chromium-browser/chromedriver/usr/bin"
      ],
      "execution_count": 0,
      "outputs": []
    },
    {
      "cell_type": "code",
      "metadata": {
        "id": "QrlsTL7rkyf3",
        "colab_type": "code",
        "colab": {}
      },
      "source": [
        "import sys\n",
        "import time\n",
        "import random\n",
        "from selenium import webdriver\n",
        "from selenium.webdriver import ChromeOptions\n",
        "from selenium.webdriver.common.by import By\n",
        "from selenium.webdriver.support.ui import WebDriverWait\n",
        "from selenium.webdriver.support import expected_conditions as EC\n",
        "from datetime import datetime\n",
        "from google.colab import output"
      ],
      "execution_count": 0,
      "outputs": []
    },
    {
      "cell_type": "code",
      "metadata": {
        "id": "5AybOQgGt3c1",
        "colab_type": "code",
        "colab": {}
      },
      "source": [
        "def refresh_driver(driver):\n",
        "    driver.refresh()\n",
        "    time.sleep(random.randint(3, 8))\n",
        "    driver.refresh()\n",
        "    time.sleep(random.randint(3, 8))"
      ],
      "execution_count": 0,
      "outputs": []
    },
    {
      "cell_type": "code",
      "metadata": {
        "id": "LEoscl8puBB5",
        "colab_type": "code",
        "colab": {}
      },
      "source": [
        "def reboot_main_program(driver):\n",
        "    driver.close()\n",
        "    time.sleep(random.randint(600, 1200))\n",
        "    main_program()"
      ],
      "execution_count": 0,
      "outputs": []
    },
    {
      "cell_type": "code",
      "metadata": {
        "id": "bTLZjY3suCa0",
        "colab_type": "code",
        "colab": {}
      },
      "source": [
        "def error001(driver):\n",
        "    html = str(driver.execute_script(\"return document.documentElement.outerHTML\"))\n",
        "    if \"We are unable to process your request due to a system error.\" and \"Please try again later.\" in html:\n",
        "        refresh_driver(driver)\n",
        "        again = WebDriverWait(driver, 120).until(\n",
        "            EC.element_to_be_clickable((By.XPATH, \"/html/body/div/div[1]/div[1]/div/div/ul/li/a\")))\n",
        "        again.click()\n",
        "        time.sleep(random.randint(5, 15))\n",
        "        try:\n",
        "            iteration(actionRegisterAnother(driver), driver)\n",
        "            iteration(authenticatePage(driver), driver)\n",
        "            iteration(Continue001(driver), driver)\n",
        "            iteration(updateLater(driver), driver)\n",
        "            iteration(agreeTerms(driver), driver)\n",
        "            iteration(Continue002(driver), driver)\n",
        "            iteration(inspect_future_SAT(driver), driver)\n",
        "        except:\n",
        "            reboot_main_program(driver)\n",
        "\n",
        "\n",
        "def error002(driver):\n",
        "    html = str(driver.execute_script(\"return document.documentElement.outerHTML\"))\n",
        "    if \"Please sign in.\" and \"Welcome back.\" in html:\n",
        "        try:\n",
        "            iteration(error2_login(driver), driver)\n",
        "            iteration(actionRegisterAnother(driver), driver)\n",
        "            iteration(authenticatePage(driver), driver)\n",
        "            iteration(Continue001(driver), driver)\n",
        "            iteration(updateLater(driver), driver)\n",
        "            iteration(agreeTerms(driver), driver)\n",
        "            iteration(Continue002(driver), driver)\n",
        "            iteration(inspect_future_SAT(driver), driver)\n",
        "        except:\n",
        "            reboot_main_program(driver)"
      ],
      "execution_count": 0,
      "outputs": []
    },
    {
      "cell_type": "code",
      "metadata": {
        "id": "5pyO_fAuxn-b",
        "colab_type": "code",
        "colab": {}
      },
      "source": [
        "def iteration(program, driver):\n",
        "    try:\n",
        "        time.sleep(5)\n",
        "        program\n",
        "    except:\n",
        "        try:\n",
        "            refresh_driver(driver)\n",
        "            program\n",
        "            time.sleep(random.randint(5, 15))\n",
        "        except:\n",
        "            try:\n",
        "                error001(driver)\n",
        "            except:\n",
        "                try:\n",
        "                    error002(driver)\n",
        "                except:\n",
        "                    reboot_main_program(driver)"
      ],
      "execution_count": 0,
      "outputs": []
    },
    {
      "cell_type": "code",
      "metadata": {
        "id": "Ih5eNDhCxqz8",
        "colab_type": "code",
        "colab": {}
      },
      "source": [
        "def get_collegeboard_website(driver):\n",
        "    driver.get('https://collegereadiness.collegeboard.org/')\n",
        "    time.sleep(random.randint(5, 15))"
      ],
      "execution_count": 0,
      "outputs": []
    },
    {
      "cell_type": "code",
      "metadata": {
        "id": "c5UPMy8uxtA-",
        "colab_type": "code",
        "colab": {}
      },
      "source": [
        "def login(driver):\n",
        "    sign_in = WebDriverWait(driver, 120).until(\n",
        "        EC.element_to_be_clickable((By.XPATH, \"/html/body/div[1]/div[1]/div/div/div/div[1]/div/div[2]/div/a[1]\")))\n",
        "    sign_in.click()\n",
        "    user_name = WebDriverWait(driver, 120).until(EC.element_to_be_clickable((By.XPATH,\n",
        "                                                                             \"/html/body/div[1]/div[1]/div/div/div[2]/div[3]/div/div/div/div/div/div[1]/div/div[2]/form/div[1]/input\")))\n",
        "    user_name.send_keys(\"UserName\")\n",
        "    password = WebDriverWait(driver, 120).until(EC.element_to_be_clickable((By.XPATH,\n",
        "                                                                            \"/html/body/div[1]/div[1]/div/div/div[2]/div[3]/div/div/div/div/div/div[1]/div/div[2]/form/div[2]/input\")))\n",
        "    password.send_keys(\"Password\")\n",
        "    submit = WebDriverWait(driver, 120).until(EC.element_to_be_clickable(\n",
        "        (By.XPATH, \"/html/body/div[1]/div[1]/div/div/div[2]/div[3]/div/div/div/div/div/div[1]/div/div[2]/form/button\")))\n",
        "    submit.click()\n",
        "    time.sleep(random.randint(5, 15))\n",
        "\n",
        "\n",
        "def error2_login(driver):\n",
        "    user_name = WebDriverWait(driver, 120).until(EC.element_to_be_clickable((By.XPATH,\n",
        "                                                                             \"/html/body/div/div[3]/div/div/div[1]/div/div/div[2]/div/div/div/div/form/div[1]/div[1]/div[2]/input\")))\n",
        "    user_name.send_keys(\"UserName\")\n",
        "    password = WebDriverWait(driver, 120).until(EC.element_to_be_clickable((By.XPATH,\n",
        "                                                                            \"/html/body/div/div[3]/div/div/div[1]/div/div/div[2]/div/div/div/div/form/div[1]/div[2]/div[2]/input\")))\n",
        "    password.send_keys(\"Password\")\n",
        "    submit = WebDriverWait(driver, 120).until(EC.element_to_be_clickable((By.XPATH,\n",
        "                                                                      \"/html/body/div/div[3]/div/div/div[1]/div/div/div[2]/div/div/div/div/form/div[3]/div[1]/button\")))\n",
        "    submit.click()\n",
        "    time.sleep(random.randint(5, 15))"
      ],
      "execution_count": 0,
      "outputs": []
    },
    {
      "cell_type": "code",
      "metadata": {
        "id": "ODvwU4Ok2wxl",
        "colab_type": "code",
        "colab": {}
      },
      "source": [
        "def get_collegeboard_registration_website(driver):\n",
        "    driver.get(\"https://nsat.collegeboard.org/satweb/satHomeAction.action\")"
      ],
      "execution_count": 0,
      "outputs": []
    },
    {
      "cell_type": "code",
      "metadata": {
        "id": "NfXuAwhp2xXR",
        "colab_type": "code",
        "colab": {}
      },
      "source": [
        "def actionRegisterAnother(driver):\n",
        "    register_another = WebDriverWait(driver, 120).until(EC.element_to_be_clickable((By.ID, \"actionRegisterAnother\")))\n",
        "    register_another.click()"
      ],
      "execution_count": 0,
      "outputs": []
    },
    {
      "cell_type": "code",
      "metadata": {
        "id": "tgm19zCg2y8o",
        "colab_type": "code",
        "colab": {}
      },
      "source": [
        "def authenticatePage(driver):\n",
        "    authenticate_page = WebDriverWait(driver, 120).until(EC.element_to_be_clickable((By.ID, \"authenticatePage\")))\n",
        "    authenticate_page.click()"
      ],
      "execution_count": 0,
      "outputs": []
    },
    {
      "cell_type": "code",
      "metadata": {
        "id": "IGd0eViZ2034",
        "colab_type": "code",
        "colab": {}
      },
      "source": [
        "def Continue001(driver):\n",
        "    continue001 = WebDriverWait(driver, 120).until(EC.element_to_be_clickable((By.ID, \"continue\")))\n",
        "    continue001.click()"
      ],
      "execution_count": 0,
      "outputs": []
    },
    {
      "cell_type": "code",
      "metadata": {
        "id": "XiXVfwk824BP",
        "colab_type": "code",
        "colab": {}
      },
      "source": [
        "def updateLater(driver):\n",
        "    update_later = WebDriverWait(driver, 120).until(EC.element_to_be_clickable((By.ID, \"updateLater\")))\n",
        "    update_later.click()"
      ],
      "execution_count": 0,
      "outputs": []
    },
    {
      "cell_type": "code",
      "metadata": {
        "id": "AImMHcmm25Pj",
        "colab_type": "code",
        "colab": {}
      },
      "source": [
        "def agreeTerms(driver):\n",
        "    agree_terms = WebDriverWait(driver, 120).until(EC.element_to_be_clickable((By.ID, \"agreeTerms\")))\n",
        "    agree_terms.click()"
      ],
      "execution_count": 0,
      "outputs": []
    },
    {
      "cell_type": "code",
      "metadata": {
        "id": "8I4UuT5326pO",
        "colab_type": "code",
        "colab": {}
      },
      "source": [
        "def Continue002(driver):\n",
        "    continue002 = WebDriverWait(driver, 120).until(EC.element_to_be_clickable((By.ID, \"continue\")))\n",
        "    continue002.click()"
      ],
      "execution_count": 0,
      "outputs": []
    },
    {
      "cell_type": "code",
      "metadata": {
        "id": "e-HqMzX9271p",
        "colab_type": "code",
        "colab": {}
      },
      "source": [
        "def inspect_future_SAT(driver):\n",
        "    while True:\n",
        "        WebDriverWait(driver, 120).until(EC.element_to_be_clickable((By.ID, \"cancelBtn\")))\n",
        "        html = str(driver.execute_script(\"return document.documentElement.outerHTML\"))\n",
        "        if \"There are no available registration dates for the current test year. Please check back later to register for future tests.\" in html:\n",
        "            print(str(datetime.now().strftime('%Y-%m-%d %H:%M:%S')) + \": \" + \"Future SAT NOT Available!\")\n",
        "        elif \"There are no available registration dates for the current test year. Please check back later to register for future tests.\" not in html:\n",
        "            while True:\n",
        "                print(\"Future SAT Available!\")\n",
        "                output.eval_js('new Audio(\"https://upload.wikimedia.org/wikipedia/commons/0/05/Beep-09.ogg\").play()')\n",
        "        time.sleep(random.randint(300, 350))\n",
        "        driver.back()\n",
        "        refresh_driver(driver)\n",
        "        iteration(agreeTerms(driver), driver)\n",
        "        iteration(Continue002(driver), driver)"
      ],
      "execution_count": 0,
      "outputs": []
    },
    {
      "cell_type": "code",
      "metadata": {
        "id": "3IptutEB2_Ep",
        "colab_type": "code",
        "colab": {}
      },
      "source": [
        "def main_program():\n",
        "    options = ChromeOptions()\n",
        "    options.add_experimental_option('excludeSwitches', ['enable-automation'])\n",
        "    options.add_argument('--ignore-certificate-errors')\n",
        "    options.add_argument('--start-maximized')\n",
        "    options.add_argument('--no-sandbox')\n",
        "    options.add_argument('--disable-dev-shm-usage')\n",
        "    options.add_argument('--headless')\n",
        "    \n",
        "    driver = webdriver.Chrome(options=options)\n",
        "    try:\n",
        "        iteration(get_collegeboard_website(driver), driver)\n",
        "        iteration(login(driver), driver)\n",
        "        iteration(get_collegeboard_registration_website(driver), driver)\n",
        "        iteration(actionRegisterAnother(driver), driver)\n",
        "        iteration(authenticatePage(driver), driver)\n",
        "        iteration(Continue001(driver), driver)\n",
        "        iteration(updateLater(driver), driver)\n",
        "        iteration(agreeTerms(driver), driver)\n",
        "        iteration(Continue002(driver), driver)\n",
        "        iteration(inspect_future_SAT(driver), driver)\n",
        "    except:\n",
        "        print('Program_Reboot!')\n",
        "        reboot_main_program(driver)"
      ],
      "execution_count": 0,
      "outputs": []
    },
    {
      "cell_type": "code",
      "metadata": {
        "id": "DV_-tGc-3xK-",
        "colab_type": "code",
        "outputId": "d51e6ffe-8d09-4990-d430-41b0092a9562",
        "colab": {
          "base_uri": "https://localhost:8080/",
          "height": 52
        }
      },
      "source": [
        "main_program()"
      ],
      "execution_count": 0,
      "outputs": [
        {
          "output_type": "stream",
          "text": [
            "2020-05-26 02:50:06: Future SAT NOT Available!\n",
            "2020-05-26 02:55:42: Future SAT NOT Available!\n"
          ],
          "name": "stdout"
        }
      ]
    }
  ]
}